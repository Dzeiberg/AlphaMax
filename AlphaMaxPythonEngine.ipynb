{
 "cells": [
  {
   "cell_type": "code",
   "execution_count": null,
   "metadata": {},
   "outputs": [],
   "source": [
    "import numpy as np\n",
    "\n",
    "import matlab.engine\n",
    "import matlab"
   ]
  },
  {
   "cell_type": "code",
   "execution_count": null,
   "metadata": {},
   "outputs": [],
   "source": [
    "from scipy.io import loadmat\n",
    "import numpy as np\n",
    "from easydict import EasyDict\n",
    "\n",
    "def loadSyntheticParamFile(file):\n",
    "    params = loadmat(file)\n",
    "    cols = \"a0 a1 b0 b1 alphas mixtureSizes componentSizes bin\".split(\" \")\n",
    "    df = EasyDict()\n",
    "    for k,v in zip(cols,params[\"params\"][0][0]):\n",
    "        df[k] = v.flatten()\n",
    "    return df\n",
    "\n",
    "df = loadSyntheticParamFile(\"/Users/dan/Documents/research/AlphaMax/data/syntheticParametersSmallBags.mat\")"
   ]
  },
  {
   "cell_type": "code",
   "execution_count": null,
   "metadata": {},
   "outputs": [],
   "source": [
    "eng = matlab.engine.start_matlab()"
   ]
  },
  {
   "cell_type": "code",
   "execution_count": null,
   "metadata": {},
   "outputs": [],
   "source": [
    "path = eng.addpath(\"alphamax\",\"distcurve\")"
   ]
  },
  {
   "cell_type": "code",
   "execution_count": null,
   "metadata": {},
   "outputs": [],
   "source": [
    "xU = np.concatenate([\n",
    "    np.random.beta(10,2,size=(250,1)),\n",
    "    np.random.beta(2,10,size=(750,1))])\n",
    "xP = np.random.beta(10,2,size=(100,1))"
   ]
  },
  {
   "cell_type": "code",
   "execution_count": null,
   "metadata": {},
   "outputs": [],
   "source": [
    "eng.runAlphaMax(matlab.double(xU.tolist()),\n",
    "                matlab.double(xP.tolist()),\n",
    "                'transform','none')"
   ]
  },
  {
   "cell_type": "code",
   "execution_count": null,
   "metadata": {},
   "outputs": [],
   "source": [
    "eng.runDistCurve(matlab.double(xU.tolist()),\n",
    "                matlab.double(xP.tolist()),\n",
    "                'transform','none','useGPU',False)"
   ]
  },
  {
   "cell_type": "code",
   "execution_count": null,
   "metadata": {},
   "outputs": [],
   "source": []
  }
 ],
 "metadata": {
  "language_info": {
   "name": "python",
   "pygments_lexer": "ipython3"
  }
 },
 "nbformat": 4,
 "nbformat_minor": 2
}
